{
 "cells": [
  {
   "cell_type": "code",
   "execution_count": null,
   "id": "abstract-mileage",
   "metadata": {},
   "outputs": [],
   "source": [
    "# convert to UTF-8 encoding\n",
    "#! iconv -f ISO-8859-1 -t UTF-8 ../data/iDB858.xml > ../data/iDB858_edited.xml\n",
    "# try to open in mozilla and there are some illegal characters, edited manually"
   ]
  },
  {
   "cell_type": "code",
   "execution_count": 6,
   "id": "postal-computer",
   "metadata": {},
   "outputs": [],
   "source": [
    "import cobra\n",
    "matlab_path = '../data/pone.0210008.s003.mat'\n",
    "path = '../data/iDB858_edited.xml'"
   ]
  },
  {
   "cell_type": "code",
   "execution_count": 2,
   "id": "renewable-purpose",
   "metadata": {},
   "outputs": [
    {
     "data": {
      "text/plain": [
       "(None,\n",
       " {'SBML_FATAL': [],\n",
       "  'SBML_ERROR': [\"E0 (Error): SBML identifier consistency (core, L14627); Duplicate 'id' attribute value; The value of the 'id' field on every instance of the following type of object in a model must be unique: <model>, <functionDefinition>, <compartmentType>, <compartment>, <speciesType>, <species>, <reaction>, <speciesReference>, <modifierSpeciesReference>, <event>, and model-wide <parameter>s. Note that <unitDefinition> and parameters defined inside a reaction are treated separately. \\nReference: L3V1 Section 3.3\\n   The <species> id 'M_man6p_c' conflicts with the previously defined <species> id 'M_man6p_c' at line 6739.\\n\",\n",
       "   \"E1 (Error): SBML identifier consistency (core, L14627); Duplicate 'metaid' attribute value; Every 'metaid' attribute value must be unique across the set of all 'metaid' values in a model.\\nReference: L3V1 Sections 3.1.6 and 3.2.1\\n   The <species> metaid 'M_man6p_c' conflicts with the previously defined <species> metaid 'M_man6p_c' at line 6739.\\n\"],\n",
       "  'SBML_SCHEMA_ERROR': [],\n",
       "  'SBML_WARNING': [],\n",
       "  'COBRA_FATAL': [\"id 'man6p_c' at index 998 is non-unique. Is it present twice?\"],\n",
       "  'COBRA_ERROR': [],\n",
       "  'COBRA_WARNING': [],\n",
       "  'COBRA_CHECK': []})"
      ]
     },
     "execution_count": 2,
     "metadata": {},
     "output_type": "execute_result"
    }
   ],
   "source": [
    "cobra.io.sbml.validate_sbml_model(path)"
   ]
  },
  {
   "cell_type": "code",
   "execution_count": 7,
   "id": "becoming-proposal",
   "metadata": {},
   "outputs": [
    {
     "name": "stdout",
     "output_type": "stream",
     "text": [
      "\u001b[31mcritical: \u001b[0mThe model could not be loaded due to the following SBML errors.\n",
      "\u001b[31merror: \u001b[0mSomething went wrong reading the SBML model. Most likely the SBML model is not valid. Please check that your model is valid using the `cobra.io.sbml.validate_sbml_model` function or via the online validator at http://sbml.org/validator .\n",
      "\u001b[31merror: \u001b[0m\t`(model, errors) = validate_sbml_model(filename)`\n",
      "\u001b[31merror: \u001b[0mIf the model is valid and cannot be read please open an issue at https://github.com/opencobra/cobrapy/issues .\n",
      "\u001b[33mwarning: \u001b[0mUsing or importing the ABCs from 'collections' instead of from 'collections.abc' is deprecated since Python 3.3, and in 3.10 it will stop working\n"
     ]
    }
   ],
   "source": [
    "! memote report snapshot --filename \"../data/report.html\" {path}"
   ]
  },
  {
   "cell_type": "code",
   "execution_count": 10,
   "id": "applied-basics",
   "metadata": {},
   "outputs": [
    {
     "name": "stdout",
     "output_type": "stream",
     "text": [
      "\u001b[1m============================= test session starts ==============================\u001b[0m\n",
      "platform linux -- Python 3.9.2, pytest-6.2.2, py-1.10.0, pluggy-0.13.1\n",
      "rootdir: /home/matinnu\n",
      "plugins: anyio-2.2.0\n",
      "collected 146 items / 1 skipped / 145 selected                                 \u001b[0m\n",
      "\n",
      "../../../anaconda3/envs/cell-factory-course/lib/python3.9/site-packages/memote/suite/tests/test_annotation.py \u001b[32m.\u001b[0m\u001b[32m [  0%]\n",
      "\u001b[0m\u001b[32m.\u001b[0m\u001b[32m.\u001b[0m\u001b[31mF\u001b[0m\u001b[31mF\u001b[0m\u001b[32m.\u001b[0m\u001b[31mF\u001b[0m\u001b[31mF\u001b[0m\u001b[32m.\u001b[0m\u001b[31mF\u001b[0m\u001b[31mF\u001b[0m\u001b[32m.\u001b[0m\u001b[32m.\u001b[0m\u001b[31mF\u001b[0m\u001b[31mF\u001b[0m\u001b[31mF\u001b[0m\u001b[31mF\u001b[0m\u001b[32m.\u001b[0m\u001b[32m.\u001b[0m\u001b[31mF\u001b[0m\u001b[31mF\u001b[0m\u001b[31mF\u001b[0m\u001b[31mF\u001b[0m\u001b[31mF\u001b[0m\u001b[31mF\u001b[0m\u001b[31mF\u001b[0m\u001b[31mF\u001b[0m\u001b[31mF\u001b[0m\u001b[31mF\u001b[0m\u001b[31mF\u001b[0m\u001b[31mF\u001b[0m\u001b[31mF\u001b[0m\u001b[31mF\u001b[0m\u001b[31mF\u001b[0m\u001b[32m.\u001b[0m\u001b[32m.\u001b[0m\u001b[31mF\u001b[0m\u001b[31mF\u001b[0m\u001b[32m.\u001b[0m\u001b[32m.\u001b[0m\u001b[31mF\u001b[0m\u001b[32m.\u001b[0m\u001b[32m.\u001b[0m\u001b[32m.\u001b[0m\u001b[31mF\u001b[0m\u001b[32m.\u001b[0m\u001b[32m.\u001b[0m\u001b[32m.\u001b[0m\u001b[32m.\u001b[0m\u001b[31mF\u001b[0m\u001b[31mF\u001b[0m\u001b[31mF\u001b[0m\u001b[32m.\u001b[0m\u001b[31mF\u001b[0m\u001b[32m.\u001b[0m\u001b[32m.\u001b[0m\u001b[31mF\u001b[0m\u001b[31mF\u001b[0m\u001b[32m.\u001b[0m\u001b[31mF\u001b[0m\u001b[31mF\u001b[0m\u001b[31mF\u001b[0m\u001b[32m.\u001b[0m\u001b[32m.\u001b[0m\u001b[32m.\u001b[0m\u001b[31m         [ 44%]\u001b[0m\n",
      "../../../anaconda3/envs/cell-factory-course/lib/python3.9/site-packages/memote/suite/tests/test_basic.py \u001b[32m.\u001b[0m\u001b[31m [ 45%]\n",
      "\u001b[0m\u001b[32m.\u001b[0m\u001b[32m.\u001b[0m\u001b[32m.\u001b[0m\u001b[32m.\u001b[0m\u001b[32m.\u001b[0m\u001b[31mF\u001b[0m\u001b[32m.\u001b[0m\u001b[31mF\u001b[0m\u001b[32m.\u001b[0m\u001b[32m.\u001b[0m\u001b[32m.\u001b[0m\u001b[32m.\u001b[0m\u001b[32m.\u001b[0m\u001b[32m.\u001b[0m\u001b[32m.\u001b[0m\u001b[32m.\u001b[0m\u001b[32m.\u001b[0m\u001b[32m.\u001b[0m\u001b[31mF\u001b[0m\u001b[32m.\u001b[0m\u001b[31mF\u001b[0m\u001b[31mF\u001b[0m\u001b[31m                                                   [ 60%]\u001b[0m\n",
      "../../../anaconda3/envs/cell-factory-course/lib/python3.9/site-packages/memote/suite/tests/test_biomass.py \u001b[32m.\u001b[0m\u001b[31m [ 60%]\n",
      "\u001b[0m\u001b[31mF\u001b[0m\u001b[32m.\u001b[0m\u001b[32m.\u001b[0m\u001b[31mF\u001b[0m\u001b[31mF\u001b[0m\u001b[32m.\u001b[0m\u001b[31mF\u001b[0m\u001b[32m.\u001b[0m\u001b[31mF\u001b[0m\u001b[31m                                                                [ 67%]\u001b[0m\n",
      "../../../anaconda3/envs/cell-factory-course/lib/python3.9/site-packages/memote/suite/tests/test_consistency.py \u001b[32m.\u001b[0m\u001b[31m [ 67%]\n",
      "\u001b[0m\u001b[32m.\u001b[0m\u001b[32m.\u001b[0m\u001b[33ms\u001b[0m\u001b[33ms\u001b[0m\u001b[33ms\u001b[0m\u001b[33ms\u001b[0m\u001b[33ms\u001b[0m\u001b[33ms\u001b[0m\u001b[33ms\u001b[0m\u001b[33ms\u001b[0m\u001b[33ms\u001b[0m\u001b[33ms\u001b[0m\u001b[33ms\u001b[0m\u001b[33ms\u001b[0m\u001b[33ms\u001b[0m\u001b[33ms\u001b[0m\u001b[33ms\u001b[0m\u001b[33ms\u001b[0m\u001b[32m.\u001b[0m\u001b[32m.\u001b[0m\u001b[32m.\u001b[0m\u001b[31mF\u001b[0m\u001b[32m.\u001b[0m\u001b[31mF\u001b[0m\u001b[32m.\u001b[0m\u001b[31mF\u001b[0m\u001b[31mF\u001b[0m\u001b[32m.\u001b[0m\u001b[31m                                             [ 86%]\u001b[0m\n",
      "../../../anaconda3/envs/cell-factory-course/lib/python3.9/site-packages/memote/suite/tests/test_essentiality.py \u001b[33ms\u001b[0m\u001b[31m [ 87%]\n",
      "\u001b[0m\u001b[31m                                                                         [ 87%]\u001b[0m\n",
      "../../../anaconda3/envs/cell-factory-course/lib/python3.9/site-packages/memote/suite/tests/test_growth.py \u001b[33ms\u001b[0m\u001b[31m [ 88%]\n",
      "\u001b[0m\u001b[31m                                                                         [ 88%]\u001b[0m\n",
      "../../../anaconda3/envs/cell-factory-course/lib/python3.9/site-packages/memote/suite/tests/test_matrix.py \u001b[32m.\u001b[0m\u001b[31m [ 89%]\n",
      "\u001b[0m\u001b[32m.\u001b[0m\u001b[32m.\u001b[0m\u001b[32m.\u001b[0m\u001b[31m                                                                      [ 91%]\u001b[0m\n",
      "../../../anaconda3/envs/cell-factory-course/lib/python3.9/site-packages/memote/suite/tests/test_sbml.py \u001b[32m.\u001b[0m\u001b[31m [ 91%]\n",
      "\u001b[0m\u001b[32m.\u001b[0m\u001b[31m                                                                        [ 92%]\u001b[0m\n",
      "../../../anaconda3/envs/cell-factory-course/lib/python3.9/site-packages/memote/suite/tests/test_sbo.py \u001b[31mF\u001b[0m\u001b[31m [ 93%]\n",
      "\u001b[0m\u001b[31mF\u001b[0m\u001b[31mF\u001b[0m\u001b[31mF\u001b[0m\u001b[31mF\u001b[0m\u001b[31mF\u001b[0m\u001b[31mF\u001b[0m\u001b[31mF\u001b[0m\u001b[33ms\u001b[0m\u001b[33ms\u001b[0m\u001b[32m.\u001b[0m\u001b[31m                                                               [100%]\u001b[0m\n",
      "\n",
      "=========================== short test summary info ============================\n",
      "FAILED ../../../anaconda3/envs/cell-factory-course/lib/python3.9/site-packages/memote/suite/tests/test_annotation.py::test_metabolite_annotation_overview[pubchem.compound]\n",
      "FAILED ../../../anaconda3/envs/cell-factory-course/lib/python3.9/site-packages/memote/suite/tests/test_annotation.py::test_metabolite_annotation_overview[kegg.compound]\n",
      "FAILED ../../../anaconda3/envs/cell-factory-course/lib/python3.9/site-packages/memote/suite/tests/test_annotation.py::test_metabolite_annotation_overview[inchikey]\n",
      "FAILED ../../../anaconda3/envs/cell-factory-course/lib/python3.9/site-packages/memote/suite/tests/test_annotation.py::test_metabolite_annotation_overview[inchi]\n",
      "FAILED ../../../anaconda3/envs/cell-factory-course/lib/python3.9/site-packages/memote/suite/tests/test_annotation.py::test_metabolite_annotation_overview[hmdb]\n",
      "FAILED ../../../anaconda3/envs/cell-factory-course/lib/python3.9/site-packages/memote/suite/tests/test_annotation.py::test_metabolite_annotation_overview[reactome]\n",
      "FAILED ../../../anaconda3/envs/cell-factory-course/lib/python3.9/site-packages/memote/suite/tests/test_annotation.py::test_metabolite_annotation_overview[biocyc]\n",
      "FAILED ../../../anaconda3/envs/cell-factory-course/lib/python3.9/site-packages/memote/suite/tests/test_annotation.py::test_reaction_annotation_overview[rhea]\n",
      "FAILED ../../../anaconda3/envs/cell-factory-course/lib/python3.9/site-packages/memote/suite/tests/test_annotation.py::test_reaction_annotation_overview[kegg.reaction]\n",
      "FAILED ../../../anaconda3/envs/cell-factory-course/lib/python3.9/site-packages/memote/suite/tests/test_annotation.py::test_reaction_annotation_overview[seed.reaction]\n",
      "FAILED ../../../anaconda3/envs/cell-factory-course/lib/python3.9/site-packages/memote/suite/tests/test_annotation.py::test_reaction_annotation_overview[reactome]\n",
      "FAILED ../../../anaconda3/envs/cell-factory-course/lib/python3.9/site-packages/memote/suite/tests/test_annotation.py::test_reaction_annotation_overview[ec-code]\n",
      "FAILED ../../../anaconda3/envs/cell-factory-course/lib/python3.9/site-packages/memote/suite/tests/test_annotation.py::test_reaction_annotation_overview[brenda]\n",
      "FAILED ../../../anaconda3/envs/cell-factory-course/lib/python3.9/site-packages/memote/suite/tests/test_annotation.py::test_reaction_annotation_overview[biocyc]\n",
      "FAILED ../../../anaconda3/envs/cell-factory-course/lib/python3.9/site-packages/memote/suite/tests/test_annotation.py::test_gene_product_annotation_overview[refseq]\n",
      "FAILED ../../../anaconda3/envs/cell-factory-course/lib/python3.9/site-packages/memote/suite/tests/test_annotation.py::test_gene_product_annotation_overview[uniprot]\n",
      "FAILED ../../../anaconda3/envs/cell-factory-course/lib/python3.9/site-packages/memote/suite/tests/test_annotation.py::test_gene_product_annotation_overview[ecogene]\n",
      "FAILED ../../../anaconda3/envs/cell-factory-course/lib/python3.9/site-packages/memote/suite/tests/test_annotation.py::test_gene_product_annotation_overview[kegg.genes]\n",
      "FAILED ../../../anaconda3/envs/cell-factory-course/lib/python3.9/site-packages/memote/suite/tests/test_annotation.py::test_gene_product_annotation_overview[ncbigi]\n",
      "FAILED ../../../anaconda3/envs/cell-factory-course/lib/python3.9/site-packages/memote/suite/tests/test_annotation.py::test_gene_product_annotation_overview[ncbigene]\n",
      "FAILED ../../../anaconda3/envs/cell-factory-course/lib/python3.9/site-packages/memote/suite/tests/test_annotation.py::test_gene_product_annotation_overview[ncbiprotein]\n",
      "FAILED ../../../anaconda3/envs/cell-factory-course/lib/python3.9/site-packages/memote/suite/tests/test_annotation.py::test_gene_product_annotation_overview[ccds]\n",
      "FAILED ../../../anaconda3/envs/cell-factory-course/lib/python3.9/site-packages/memote/suite/tests/test_annotation.py::test_gene_product_annotation_overview[hprd]\n",
      "FAILED ../../../anaconda3/envs/cell-factory-course/lib/python3.9/site-packages/memote/suite/tests/test_annotation.py::test_gene_product_annotation_overview[asap]\n",
      "FAILED ../../../anaconda3/envs/cell-factory-course/lib/python3.9/site-packages/memote/suite/tests/test_annotation.py::test_metabolite_annotation_wrong_ids[pubchem.compound]\n",
      "FAILED ../../../anaconda3/envs/cell-factory-course/lib/python3.9/site-packages/memote/suite/tests/test_annotation.py::test_metabolite_annotation_wrong_ids[inchikey]\n",
      "FAILED ../../../anaconda3/envs/cell-factory-course/lib/python3.9/site-packages/memote/suite/tests/test_annotation.py::test_metabolite_annotation_wrong_ids[inchi]\n",
      "FAILED ../../../anaconda3/envs/cell-factory-course/lib/python3.9/site-packages/memote/suite/tests/test_annotation.py::test_metabolite_annotation_wrong_ids[reactome]\n",
      "FAILED ../../../anaconda3/envs/cell-factory-course/lib/python3.9/site-packages/memote/suite/tests/test_annotation.py::test_reaction_annotation_wrong_ids[rhea]\n",
      "FAILED ../../../anaconda3/envs/cell-factory-course/lib/python3.9/site-packages/memote/suite/tests/test_annotation.py::test_reaction_annotation_wrong_ids[reactome]\n",
      "FAILED ../../../anaconda3/envs/cell-factory-course/lib/python3.9/site-packages/memote/suite/tests/test_annotation.py::test_reaction_annotation_wrong_ids[ec-code]\n",
      "FAILED ../../../anaconda3/envs/cell-factory-course/lib/python3.9/site-packages/memote/suite/tests/test_annotation.py::test_reaction_annotation_wrong_ids[brenda]\n",
      "FAILED ../../../anaconda3/envs/cell-factory-course/lib/python3.9/site-packages/memote/suite/tests/test_annotation.py::test_gene_product_annotation_wrong_ids[refseq]\n",
      "FAILED ../../../anaconda3/envs/cell-factory-course/lib/python3.9/site-packages/memote/suite/tests/test_annotation.py::test_gene_product_annotation_wrong_ids[kegg.genes]\n",
      "FAILED ../../../anaconda3/envs/cell-factory-course/lib/python3.9/site-packages/memote/suite/tests/test_annotation.py::test_gene_product_annotation_wrong_ids[ncbigi]\n",
      "FAILED ../../../anaconda3/envs/cell-factory-course/lib/python3.9/site-packages/memote/suite/tests/test_annotation.py::test_gene_product_annotation_wrong_ids[ncbiprotein]\n",
      "FAILED ../../../anaconda3/envs/cell-factory-course/lib/python3.9/site-packages/memote/suite/tests/test_annotation.py::test_gene_product_annotation_wrong_ids[ccds]\n",
      "FAILED ../../../anaconda3/envs/cell-factory-course/lib/python3.9/site-packages/memote/suite/tests/test_annotation.py::test_gene_product_annotation_wrong_ids[hprd]\n",
      "FAILED ../../../anaconda3/envs/cell-factory-course/lib/python3.9/site-packages/memote/suite/tests/test_basic.py::test_gene_protein_reaction_rule_presence\n",
      "FAILED ../../../anaconda3/envs/cell-factory-course/lib/python3.9/site-packages/memote/suite/tests/test_basic.py::test_metabolic_coverage\n",
      "FAILED ../../../anaconda3/envs/cell-factory-course/lib/python3.9/site-packages/memote/suite/tests/test_basic.py::test_find_reactions_with_partially_identical_annotations\n",
      "FAILED ../../../anaconda3/envs/cell-factory-course/lib/python3.9/site-packages/memote/suite/tests/test_basic.py::test_find_reactions_with_identical_genes\n",
      "FAILED ../../../anaconda3/envs/cell-factory-course/lib/python3.9/site-packages/memote/suite/tests/test_basic.py::test_find_medium_metabolites\n",
      "FAILED ../../../anaconda3/envs/cell-factory-course/lib/python3.9/site-packages/memote/suite/tests/test_biomass.py::test_biomass_consistency[BIOMASS_Ecoli_core_w_GAM]\n",
      "FAILED ../../../anaconda3/envs/cell-factory-course/lib/python3.9/site-packages/memote/suite/tests/test_biomass.py::test_biomass_precursors_default_production[BIOMASS_Ecoli_core_w_GAM]\n",
      "FAILED ../../../anaconda3/envs/cell-factory-course/lib/python3.9/site-packages/memote/suite/tests/test_biomass.py::test_biomass_precursors_open_production[BIOMASS_Ecoli_core_w_GAM]\n",
      "FAILED ../../../anaconda3/envs/cell-factory-course/lib/python3.9/site-packages/memote/suite/tests/test_biomass.py::test_fast_growth_default[BIOMASS_Ecoli_core_w_GAM]\n",
      "FAILED ../../../anaconda3/envs/cell-factory-course/lib/python3.9/site-packages/memote/suite/tests/test_biomass.py::test_essential_precursors_not_in_biomass[BIOMASS_Ecoli_core_w_GAM]\n",
      "FAILED ../../../anaconda3/envs/cell-factory-course/lib/python3.9/site-packages/memote/suite/tests/test_consistency.py::test_find_stoichiometrically_balanced_cycles\n",
      "FAILED ../../../anaconda3/envs/cell-factory-course/lib/python3.9/site-packages/memote/suite/tests/test_consistency.py::test_find_deadends\n",
      "FAILED ../../../anaconda3/envs/cell-factory-course/lib/python3.9/site-packages/memote/suite/tests/test_consistency.py::test_find_metabolites_not_produced_with_open_bounds\n",
      "FAILED ../../../anaconda3/envs/cell-factory-course/lib/python3.9/site-packages/memote/suite/tests/test_consistency.py::test_find_metabolites_not_consumed_with_open_bounds\n",
      "FAILED ../../../anaconda3/envs/cell-factory-course/lib/python3.9/site-packages/memote/suite/tests/test_sbo.py::test_metabolite_sbo_presence\n",
      "FAILED ../../../anaconda3/envs/cell-factory-course/lib/python3.9/site-packages/memote/suite/tests/test_sbo.py::test_reaction_sbo_presence\n",
      "FAILED ../../../anaconda3/envs/cell-factory-course/lib/python3.9/site-packages/memote/suite/tests/test_sbo.py::test_gene_sbo_presence\n",
      "FAILED ../../../anaconda3/envs/cell-factory-course/lib/python3.9/site-packages/memote/suite/tests/test_sbo.py::test_metabolic_reaction_specific_sbo_presence\n",
      "FAILED ../../../anaconda3/envs/cell-factory-course/lib/python3.9/site-packages/memote/suite/tests/test_sbo.py::test_transport_reaction_specific_sbo_presence\n",
      "FAILED ../../../anaconda3/envs/cell-factory-course/lib/python3.9/site-packages/memote/suite/tests/test_sbo.py::test_metabolite_specific_sbo_presence\n",
      "FAILED ../../../anaconda3/envs/cell-factory-course/lib/python3.9/site-packages/memote/suite/tests/test_sbo.py::test_gene_specific_sbo_presence\n",
      "FAILED ../../../anaconda3/envs/cell-factory-course/lib/python3.9/site-packages/memote/suite/tests/test_sbo.py::test_exchange_specific_sbo_presence\n",
      "\u001b[31m================== \u001b[31m\u001b[1m60 failed\u001b[0m, \u001b[32m66 passed\u001b[0m, \u001b[33m21 skipped\u001b[0m\u001b[31m in 1.49s\u001b[0m\u001b[31m ===================\u001b[0m\n",
      "Writing snapshot report to '../data/report_example.html'.\n"
     ]
    }
   ],
   "source": [
    "! memote report snapshot --filename \"../data/report_example.html\" ../data/e_coli_core.xml"
   ]
  },
  {
   "cell_type": "code",
   "execution_count": 8,
   "id": "plastic-spring",
   "metadata": {},
   "outputs": [
    {
     "ename": "CobraSBMLError",
     "evalue": "Something went wrong reading the SBML model. Most likely the SBML model is not valid. Please check that your model is valid using the `cobra.io.sbml.validate_sbml_model` function or via the online validator at http://sbml.org/validator .\n\t`(model, errors) = validate_sbml_model(filename)`\nIf the model is valid and cannot be read please open an issue at https://github.com/opencobra/cobrapy/issues .",
     "output_type": "error",
     "traceback": [
      "\u001b[0;31m---------------------------------------------------------------------------\u001b[0m",
      "\u001b[0;31mValueError\u001b[0m                                Traceback (most recent call last)",
      "\u001b[0;32m~/anaconda3/envs/cell-factory-course/lib/python3.9/site-packages/cobra/io/sbml.py\u001b[0m in \u001b[0;36mread_sbml_model\u001b[0;34m(filename, number, f_replace, **kwargs)\u001b[0m\n\u001b[1;32m    250\u001b[0m         \u001b[0mdoc\u001b[0m \u001b[0;34m=\u001b[0m \u001b[0m_get_doc_from_filename\u001b[0m\u001b[0;34m(\u001b[0m\u001b[0mfilename\u001b[0m\u001b[0;34m)\u001b[0m\u001b[0;34m\u001b[0m\u001b[0;34m\u001b[0m\u001b[0m\n\u001b[0;32m--> 251\u001b[0;31m         \u001b[0;32mreturn\u001b[0m \u001b[0m_sbml_to_model\u001b[0m\u001b[0;34m(\u001b[0m\u001b[0mdoc\u001b[0m\u001b[0;34m,\u001b[0m \u001b[0mnumber\u001b[0m\u001b[0;34m=\u001b[0m\u001b[0mnumber\u001b[0m\u001b[0;34m,\u001b[0m \u001b[0mf_replace\u001b[0m\u001b[0;34m=\u001b[0m\u001b[0mf_replace\u001b[0m\u001b[0;34m,\u001b[0m \u001b[0;34m**\u001b[0m\u001b[0mkwargs\u001b[0m\u001b[0;34m)\u001b[0m\u001b[0;34m\u001b[0m\u001b[0;34m\u001b[0m\u001b[0m\n\u001b[0m\u001b[1;32m    252\u001b[0m     \u001b[0;32mexcept\u001b[0m \u001b[0mIOError\u001b[0m \u001b[0;32mas\u001b[0m \u001b[0me\u001b[0m\u001b[0;34m:\u001b[0m\u001b[0;34m\u001b[0m\u001b[0;34m\u001b[0m\u001b[0m\n",
      "\u001b[0;32m~/anaconda3/envs/cell-factory-course/lib/python3.9/site-packages/cobra/io/sbml.py\u001b[0m in \u001b[0;36m_sbml_to_model\u001b[0;34m(doc, number, f_replace, set_missing_bounds, **kwargs)\u001b[0m\n\u001b[1;32m    498\u001b[0m \u001b[0;34m\u001b[0m\u001b[0m\n\u001b[0;32m--> 499\u001b[0;31m     \u001b[0mcobra_model\u001b[0m\u001b[0;34m.\u001b[0m\u001b[0madd_metabolites\u001b[0m\u001b[0;34m(\u001b[0m\u001b[0mmetabolites\u001b[0m\u001b[0;34m)\u001b[0m\u001b[0;34m\u001b[0m\u001b[0;34m\u001b[0m\u001b[0m\n\u001b[0m\u001b[1;32m    500\u001b[0m \u001b[0;34m\u001b[0m\u001b[0m\n",
      "\u001b[0;32m~/anaconda3/envs/cell-factory-course/lib/python3.9/site-packages/cobra/core/model.py\u001b[0m in \u001b[0;36madd_metabolites\u001b[0;34m(self, metabolite_list)\u001b[0m\n\u001b[1;32m    466\u001b[0m             \u001b[0mx\u001b[0m\u001b[0;34m.\u001b[0m\u001b[0m_model\u001b[0m \u001b[0;34m=\u001b[0m \u001b[0mself\u001b[0m\u001b[0;34m\u001b[0m\u001b[0;34m\u001b[0m\u001b[0m\n\u001b[0;32m--> 467\u001b[0;31m         \u001b[0mself\u001b[0m\u001b[0;34m.\u001b[0m\u001b[0mmetabolites\u001b[0m \u001b[0;34m+=\u001b[0m \u001b[0mmetabolite_list\u001b[0m\u001b[0;34m\u001b[0m\u001b[0;34m\u001b[0m\u001b[0m\n\u001b[0m\u001b[1;32m    468\u001b[0m \u001b[0;34m\u001b[0m\u001b[0m\n",
      "\u001b[0;32m~/anaconda3/envs/cell-factory-course/lib/python3.9/site-packages/cobra/core/dictlist.py\u001b[0m in \u001b[0;36m__iadd__\u001b[0;34m(self, other)\u001b[0m\n\u001b[1;32m    272\u001b[0m         \"\"\"\n\u001b[0;32m--> 273\u001b[0;31m         \u001b[0mself\u001b[0m\u001b[0;34m.\u001b[0m\u001b[0mextend\u001b[0m\u001b[0;34m(\u001b[0m\u001b[0mother\u001b[0m\u001b[0;34m)\u001b[0m\u001b[0;34m\u001b[0m\u001b[0;34m\u001b[0m\u001b[0m\n\u001b[0m\u001b[1;32m    274\u001b[0m         \u001b[0;32mreturn\u001b[0m \u001b[0mself\u001b[0m\u001b[0;34m\u001b[0m\u001b[0;34m\u001b[0m\u001b[0m\n",
      "\u001b[0;32m~/anaconda3/envs/cell-factory-course/lib/python3.9/site-packages/cobra/core/dictlist.py\u001b[0m in \u001b[0;36mextend\u001b[0;34m(self, iterable)\u001b[0m\n\u001b[1;32m    197\u001b[0m                 \u001b[0;31m# twice in the list being added\u001b[0m\u001b[0;34m\u001b[0m\u001b[0;34m\u001b[0m\u001b[0;34m\u001b[0m\u001b[0m\n\u001b[0;32m--> 198\u001b[0;31m                 raise ValueError(\n\u001b[0m\u001b[1;32m    199\u001b[0m                     \u001b[0;34m\"id '%s' at index %d is non-unique. \"\u001b[0m\u001b[0;34m\u001b[0m\u001b[0;34m\u001b[0m\u001b[0m\n",
      "\u001b[0;31mValueError\u001b[0m: id 'man6p_c' at index 998 is non-unique. Is it present twice?",
      "\nThe above exception was the direct cause of the following exception:\n",
      "\u001b[0;31mCobraSBMLError\u001b[0m                            Traceback (most recent call last)",
      "\u001b[0;32m<ipython-input-8-14bc4675c343>\u001b[0m in \u001b[0;36m<module>\u001b[0;34m\u001b[0m\n\u001b[1;32m      1\u001b[0m \u001b[0;31m#cobra.io.load_matlab_model('../data/pone.0210008.s003.mat', variable_name = 'iDB858')\u001b[0m\u001b[0;34m\u001b[0m\u001b[0;34m\u001b[0m\u001b[0;34m\u001b[0m\u001b[0m\n\u001b[0;32m----> 2\u001b[0;31m \u001b[0mcobra\u001b[0m\u001b[0;34m.\u001b[0m\u001b[0mio\u001b[0m\u001b[0;34m.\u001b[0m\u001b[0mread_sbml_model\u001b[0m\u001b[0;34m(\u001b[0m\u001b[0mpath\u001b[0m\u001b[0;34m)\u001b[0m\u001b[0;34m\u001b[0m\u001b[0;34m\u001b[0m\u001b[0m\n\u001b[0m",
      "\u001b[0;32m~/anaconda3/envs/cell-factory-course/lib/python3.9/site-packages/cobra/io/sbml.py\u001b[0m in \u001b[0;36mread_sbml_model\u001b[0;34m(filename, number, f_replace, **kwargs)\u001b[0m\n\u001b[1;32m    263\u001b[0m             \u001b[0;34m\"at https://github.com/opencobra/cobrapy/issues .\"\u001b[0m\u001b[0;34m\u001b[0m\u001b[0;34m\u001b[0m\u001b[0m\n\u001b[1;32m    264\u001b[0m         )\n\u001b[0;32m--> 265\u001b[0;31m         \u001b[0mraise_from\u001b[0m\u001b[0;34m(\u001b[0m\u001b[0mcobra_error\u001b[0m\u001b[0;34m,\u001b[0m \u001b[0moriginal_error\u001b[0m\u001b[0;34m)\u001b[0m\u001b[0;34m\u001b[0m\u001b[0;34m\u001b[0m\u001b[0m\n\u001b[0m\u001b[1;32m    266\u001b[0m \u001b[0;34m\u001b[0m\u001b[0m\n\u001b[1;32m    267\u001b[0m \u001b[0;34m\u001b[0m\u001b[0m\n",
      "\u001b[0;32m~/anaconda3/envs/cell-factory-course/lib/python3.9/site-packages/six.py\u001b[0m in \u001b[0;36mraise_from\u001b[0;34m(value, from_value)\u001b[0m\n",
      "\u001b[0;31mCobraSBMLError\u001b[0m: Something went wrong reading the SBML model. Most likely the SBML model is not valid. Please check that your model is valid using the `cobra.io.sbml.validate_sbml_model` function or via the online validator at http://sbml.org/validator .\n\t`(model, errors) = validate_sbml_model(filename)`\nIf the model is valid and cannot be read please open an issue at https://github.com/opencobra/cobrapy/issues ."
     ]
    }
   ],
   "source": [
    "#cobra.io.load_matlab_model('../data/pone.0210008.s003.mat', variable_name = 'iDB858')\n",
    "cobra.io.read_sbml_model(path)"
   ]
  },
  {
   "cell_type": "code",
   "execution_count": 9,
   "id": "filled-worse",
   "metadata": {},
   "outputs": [
    {
     "ename": "IndexError",
     "evalue": "list index out of range",
     "output_type": "error",
     "traceback": [
      "\u001b[0;31m---------------------------------------------------------------------------\u001b[0m",
      "\u001b[0;31mIndexError\u001b[0m                                Traceback (most recent call last)",
      "\u001b[0;32m<ipython-input-9-2d6e6acfbc44>\u001b[0m in \u001b[0;36m<module>\u001b[0;34m\u001b[0m\n\u001b[0;32m----> 1\u001b[0;31m \u001b[0mcobra\u001b[0m\u001b[0;34m.\u001b[0m\u001b[0mio\u001b[0m\u001b[0;34m.\u001b[0m\u001b[0mload_matlab_model\u001b[0m\u001b[0;34m(\u001b[0m\u001b[0;34m'../data/pone.0210008.s003.mat'\u001b[0m\u001b[0;34m)\u001b[0m\u001b[0;34m\u001b[0m\u001b[0;34m\u001b[0m\u001b[0m\n\u001b[0m",
      "\u001b[0;32m~/anaconda3/envs/cell-factory-course/lib/python3.9/site-packages/cobra/io/mat.py\u001b[0m in \u001b[0;36mload_matlab_model\u001b[0;34m(infile_path, variable_name, inf)\u001b[0m\n\u001b[1;32m     82\u001b[0m             \u001b[0mvariable_name\u001b[0m \u001b[0;34m=\u001b[0m \u001b[0mpossible_names\u001b[0m\u001b[0;34m[\u001b[0m\u001b[0;36m0\u001b[0m\u001b[0;34m]\u001b[0m\u001b[0;34m\u001b[0m\u001b[0;34m\u001b[0m\u001b[0m\n\u001b[1;32m     83\u001b[0m     \u001b[0;32mif\u001b[0m \u001b[0mvariable_name\u001b[0m \u001b[0;32mis\u001b[0m \u001b[0;32mnot\u001b[0m \u001b[0;32mNone\u001b[0m\u001b[0;34m:\u001b[0m\u001b[0;34m\u001b[0m\u001b[0;34m\u001b[0m\u001b[0m\n\u001b[0;32m---> 84\u001b[0;31m         \u001b[0;32mreturn\u001b[0m \u001b[0mfrom_mat_struct\u001b[0m\u001b[0;34m(\u001b[0m\u001b[0mdata\u001b[0m\u001b[0;34m[\u001b[0m\u001b[0mvariable_name\u001b[0m\u001b[0;34m]\u001b[0m\u001b[0;34m,\u001b[0m \u001b[0mmodel_id\u001b[0m\u001b[0;34m=\u001b[0m\u001b[0mvariable_name\u001b[0m\u001b[0;34m,\u001b[0m \u001b[0minf\u001b[0m\u001b[0;34m=\u001b[0m\u001b[0minf\u001b[0m\u001b[0;34m)\u001b[0m\u001b[0;34m\u001b[0m\u001b[0;34m\u001b[0m\u001b[0m\n\u001b[0m\u001b[1;32m     85\u001b[0m     \u001b[0;32mfor\u001b[0m \u001b[0mpossible_name\u001b[0m \u001b[0;32min\u001b[0m \u001b[0mpossible_names\u001b[0m\u001b[0;34m:\u001b[0m\u001b[0;34m\u001b[0m\u001b[0;34m\u001b[0m\u001b[0m\n\u001b[1;32m     86\u001b[0m         \u001b[0;32mtry\u001b[0m\u001b[0;34m:\u001b[0m\u001b[0;34m\u001b[0m\u001b[0;34m\u001b[0m\u001b[0m\n",
      "\u001b[0;32m~/anaconda3/envs/cell-factory-course/lib/python3.9/site-packages/cobra/io/mat.py\u001b[0m in \u001b[0;36mfrom_mat_struct\u001b[0;34m(mat_struct, model_id, inf)\u001b[0m\n\u001b[1;32m    256\u001b[0m     \u001b[0mcoo\u001b[0m \u001b[0;34m=\u001b[0m \u001b[0mscipy_sparse\u001b[0m\u001b[0;34m.\u001b[0m\u001b[0mcoo_matrix\u001b[0m\u001b[0;34m(\u001b[0m\u001b[0mm\u001b[0m\u001b[0;34m[\u001b[0m\u001b[0;34m\"S\"\u001b[0m\u001b[0;34m]\u001b[0m\u001b[0;34m[\u001b[0m\u001b[0;36m0\u001b[0m\u001b[0;34m,\u001b[0m \u001b[0;36m0\u001b[0m\u001b[0;34m]\u001b[0m\u001b[0;34m)\u001b[0m\u001b[0;34m\u001b[0m\u001b[0;34m\u001b[0m\u001b[0m\n\u001b[1;32m    257\u001b[0m     \u001b[0;32mfor\u001b[0m \u001b[0mi\u001b[0m\u001b[0;34m,\u001b[0m \u001b[0mj\u001b[0m\u001b[0;34m,\u001b[0m \u001b[0mv\u001b[0m \u001b[0;32min\u001b[0m \u001b[0mzip\u001b[0m\u001b[0;34m(\u001b[0m\u001b[0mcoo\u001b[0m\u001b[0;34m.\u001b[0m\u001b[0mrow\u001b[0m\u001b[0;34m,\u001b[0m \u001b[0mcoo\u001b[0m\u001b[0;34m.\u001b[0m\u001b[0mcol\u001b[0m\u001b[0;34m,\u001b[0m \u001b[0mcoo\u001b[0m\u001b[0;34m.\u001b[0m\u001b[0mdata\u001b[0m\u001b[0;34m)\u001b[0m\u001b[0;34m:\u001b[0m\u001b[0;34m\u001b[0m\u001b[0;34m\u001b[0m\u001b[0m\n\u001b[0;32m--> 258\u001b[0;31m         \u001b[0mmodel\u001b[0m\u001b[0;34m.\u001b[0m\u001b[0mreactions\u001b[0m\u001b[0;34m[\u001b[0m\u001b[0mj\u001b[0m\u001b[0;34m]\u001b[0m\u001b[0;34m.\u001b[0m\u001b[0madd_metabolites\u001b[0m\u001b[0;34m(\u001b[0m\u001b[0;34m{\u001b[0m\u001b[0mmodel\u001b[0m\u001b[0;34m.\u001b[0m\u001b[0mmetabolites\u001b[0m\u001b[0;34m[\u001b[0m\u001b[0mi\u001b[0m\u001b[0;34m]\u001b[0m\u001b[0;34m:\u001b[0m \u001b[0mv\u001b[0m\u001b[0;34m}\u001b[0m\u001b[0;34m)\u001b[0m\u001b[0;34m\u001b[0m\u001b[0;34m\u001b[0m\u001b[0m\n\u001b[0m\u001b[1;32m    259\u001b[0m     \u001b[0;32mreturn\u001b[0m \u001b[0mmodel\u001b[0m\u001b[0;34m\u001b[0m\u001b[0;34m\u001b[0m\u001b[0m\n\u001b[1;32m    260\u001b[0m \u001b[0;34m\u001b[0m\u001b[0m\n",
      "\u001b[0;32m~/anaconda3/envs/cell-factory-course/lib/python3.9/site-packages/cobra/core/dictlist.py\u001b[0m in \u001b[0;36m__getitem__\u001b[0;34m(self, i)\u001b[0m\n\u001b[1;32m    408\u001b[0m                 \u001b[0;32mreturn\u001b[0m \u001b[0mself\u001b[0m\u001b[0;34m.\u001b[0m\u001b[0m__class__\u001b[0m\u001b[0;34m(\u001b[0m\u001b[0mlist\u001b[0m\u001b[0;34m.\u001b[0m\u001b[0m__getitem__\u001b[0m\u001b[0;34m(\u001b[0m\u001b[0mself\u001b[0m\u001b[0;34m,\u001b[0m \u001b[0mi\u001b[0m\u001b[0;34m)\u001b[0m\u001b[0;34m)\u001b[0m\u001b[0;34m\u001b[0m\u001b[0;34m\u001b[0m\u001b[0m\n\u001b[1;32m    409\u001b[0m         \u001b[0;32melse\u001b[0m\u001b[0;34m:\u001b[0m\u001b[0;34m\u001b[0m\u001b[0;34m\u001b[0m\u001b[0m\n\u001b[0;32m--> 410\u001b[0;31m             \u001b[0;32mreturn\u001b[0m \u001b[0mlist\u001b[0m\u001b[0;34m.\u001b[0m\u001b[0m__getitem__\u001b[0m\u001b[0;34m(\u001b[0m\u001b[0mself\u001b[0m\u001b[0;34m,\u001b[0m \u001b[0mi\u001b[0m\u001b[0;34m)\u001b[0m\u001b[0;34m\u001b[0m\u001b[0;34m\u001b[0m\u001b[0m\n\u001b[0m\u001b[1;32m    411\u001b[0m \u001b[0;34m\u001b[0m\u001b[0m\n\u001b[1;32m    412\u001b[0m     \u001b[0;32mdef\u001b[0m \u001b[0m__setitem__\u001b[0m\u001b[0;34m(\u001b[0m\u001b[0mself\u001b[0m\u001b[0;34m,\u001b[0m \u001b[0mi\u001b[0m\u001b[0;34m,\u001b[0m \u001b[0my\u001b[0m\u001b[0;34m)\u001b[0m\u001b[0;34m:\u001b[0m\u001b[0;34m\u001b[0m\u001b[0;34m\u001b[0m\u001b[0m\n",
      "\u001b[0;31mIndexError\u001b[0m: list index out of range"
     ]
    }
   ],
   "source": [
    "cobra.io.load_matlab_model('../data/pone.0210008.s003.mat')"
   ]
  }
 ],
 "metadata": {
  "kernelspec": {
   "display_name": "Python 3",
   "language": "python",
   "name": "python3"
  },
  "language_info": {
   "codemirror_mode": {
    "name": "ipython",
    "version": 3
   },
   "file_extension": ".py",
   "mimetype": "text/x-python",
   "name": "python",
   "nbconvert_exporter": "python",
   "pygments_lexer": "ipython3",
   "version": "3.9.2"
  }
 },
 "nbformat": 4,
 "nbformat_minor": 5
}
