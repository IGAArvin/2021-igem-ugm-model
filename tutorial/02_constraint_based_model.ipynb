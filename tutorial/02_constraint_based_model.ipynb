{
 "cells": [
  {
   "cell_type": "code",
   "execution_count": 1,
   "id": "lesbian-diving",
   "metadata": {},
   "outputs": [],
   "source": [
    "from cameo import load_model\n",
    "from cameo import fba\n",
    "\n",
    "import escher\n",
    "from escher import Builder"
   ]
  },
  {
   "cell_type": "code",
   "execution_count": 2,
   "id": "bea9a532-474c-4e0d-a304-6b15b6eec301",
   "metadata": {},
   "outputs": [
    {
     "data": {
      "application/vnd.jupyter.widget-view+json": {
       "model_id": "26b59ba218214b2fbce7bcd5d0ecf3bf",
       "version_major": 2,
       "version_minor": 0
      },
      "text/plain": [
       "Builder()"
      ]
     },
     "metadata": {},
     "output_type": "display_data"
    }
   ],
   "source": [
    "Builder()"
   ]
  },
  {
   "cell_type": "code",
   "execution_count": 3,
   "id": "9235a34b-e76f-401b-b18d-cdc08fd00f81",
   "metadata": {},
   "outputs": [
    {
     "data": {
      "text/plain": [
       "[{'organism': 'Saccharomyces cerevisiae',\n",
       "  'map_name': 'iMM904.Central carbon metabolism'},\n",
       " {'organism': 'Homo sapiens',\n",
       "  'map_name': 'RECON1.Inositol retinol metabolism'},\n",
       " {'organism': 'Homo sapiens', 'map_name': 'RECON1.Glycolysis TCA PPP'},\n",
       " {'organism': 'Homo sapiens', 'map_name': 'RECON1.Tryptophan metabolism'},\n",
       " {'organism': 'Homo sapiens', 'map_name': 'RECON1.Carbohydrate metabolism'},\n",
       " {'organism': 'Homo sapiens',\n",
       "  'map_name': 'RECON1.Amino acid metabolism (partial)'},\n",
       " {'organism': 'Escherichia coli', 'map_name': 'iJO1366.Nucleotide metabolism'},\n",
       " {'organism': 'Escherichia coli',\n",
       "  'map_name': 'iJO1366.Fatty acid biosynthesis (saturated)'},\n",
       " {'organism': 'Escherichia coli',\n",
       "  'map_name': 'iJO1366.Nucleotide and histidine biosynthesis'},\n",
       " {'organism': 'Escherichia coli', 'map_name': 'e_coli_core.Core metabolism'},\n",
       " {'organism': 'Escherichia coli', 'map_name': 'iJO1366.Central metabolism'},\n",
       " {'organism': 'Escherichia coli',\n",
       "  'map_name': 'iJO1366.Fatty acid beta-oxidation'}]"
      ]
     },
     "execution_count": 3,
     "metadata": {},
     "output_type": "execute_result"
    }
   ],
   "source": [
    "# Check escher\n",
    "escher.list_available_maps()"
   ]
  },
  {
   "cell_type": "code",
   "execution_count": 4,
   "id": "55aade76-9faa-4899-a5d1-5fa6d4eeec40",
   "metadata": {},
   "outputs": [],
   "source": [
    "# The notebook extenstion should install automatically. You can check by running:\n",
    "#!jupyter nbextension list\n",
    "# Make sure you have version >=5 of the `notebook` package\n",
    "#!pip install \"notebook>=5\"\n",
    "# To manually install the extension\n",
    "#!jupyter nbextension install --py --sys-prefix escher\n",
    "#!jupyter nbextension enable --py --sys-prefix escher\n",
    "# depending on you environment, you might need the `--sysprefix` flag with those commands\n",
    "#!jupyter labextension install @jupyter-widgets/jupyterlab-manager\n",
    "#!jupyter labextension install escher"
   ]
  },
  {
   "cell_type": "code",
   "execution_count": 4,
   "id": "covered-linux",
   "metadata": {},
   "outputs": [
    {
     "data": {
      "text/html": [
       "\n",
       "        <table>\n",
       "            <tr>\n",
       "                <td><strong>Name</strong></td>\n",
       "                <td>M_iDB858</td>\n",
       "            </tr><tr>\n",
       "                <td><strong>Memory address</strong></td>\n",
       "                <td>0x07f35783d08b0</td>\n",
       "            </tr><tr>\n",
       "                <td><strong>Number of metabolites</strong></td>\n",
       "                <td>1003</td>\n",
       "            </tr><tr>\n",
       "                <td><strong>Number of reactions</strong></td>\n",
       "                <td>1330</td>\n",
       "            </tr><tr>\n",
       "                <td><strong>Number of groups</strong></td>\n",
       "                <td>84</td>\n",
       "            </tr><tr>\n",
       "                <td><strong>Objective expression</strong></td>\n",
       "                <td>1.0*biomass1.12 - 1.0*biomass1.12_reverse_e00c6</td>\n",
       "            </tr><tr>\n",
       "                <td><strong>Compartments</strong></td>\n",
       "                <td>Cytoplasm</td>\n",
       "            </tr>\n",
       "          </table>"
      ],
      "text/plain": [
       "<Model M_iDB858 at 0x7f35783d08b0>"
      ]
     },
     "execution_count": 4,
     "metadata": {},
     "output_type": "execute_result"
    }
   ],
   "source": [
    "# load Chromobacterium model\n",
    "model = load_model('../data/iDB858_edited.xml')\n",
    "model"
   ]
  },
  {
   "cell_type": "code",
   "execution_count": 5,
   "id": "mounted-closure",
   "metadata": {},
   "outputs": [
    {
     "data": {
      "text/plain": [
       "0.2515998481207547"
      ]
     },
     "execution_count": 5,
     "metadata": {},
     "output_type": "execute_result"
    }
   ],
   "source": [
    "# simulasi model\n",
    "s_model = fba(model)\n",
    "flux_model = s_model.fluxes.to_frame()\n",
    "s_model.objective_value"
   ]
  },
  {
   "cell_type": "code",
   "execution_count": 6,
   "id": "specified-collapse",
   "metadata": {},
   "outputs": [
    {
     "data": {
      "text/html": [
       "\n",
       "        <table>\n",
       "            <tr>\n",
       "                <td><strong>Name</strong></td>\n",
       "                <td>e_coli_core</td>\n",
       "            </tr><tr>\n",
       "                <td><strong>Memory address</strong></td>\n",
       "                <td>0x07f3564b51100</td>\n",
       "            </tr><tr>\n",
       "                <td><strong>Number of metabolites</strong></td>\n",
       "                <td>72</td>\n",
       "            </tr><tr>\n",
       "                <td><strong>Number of reactions</strong></td>\n",
       "                <td>95</td>\n",
       "            </tr><tr>\n",
       "                <td><strong>Number of groups</strong></td>\n",
       "                <td>0</td>\n",
       "            </tr><tr>\n",
       "                <td><strong>Objective expression</strong></td>\n",
       "                <td>1.0*BIOMASS_Ecoli_core_w_GAM - 1.0*BIOMASS_Ecoli_core_w_GAM_reverse_712e5</td>\n",
       "            </tr><tr>\n",
       "                <td><strong>Compartments</strong></td>\n",
       "                <td>extracellular space, cytosol</td>\n",
       "            </tr>\n",
       "          </table>"
      ],
      "text/plain": [
       "<Model e_coli_core at 0x7f3564b51100>"
      ]
     },
     "execution_count": 6,
     "metadata": {},
     "output_type": "execute_result"
    }
   ],
   "source": [
    "# load ecoli model for comparison\n",
    "ecoli = load_model('../data/e_coli_core.xml')\n",
    "ecoli"
   ]
  },
  {
   "cell_type": "code",
   "execution_count": 7,
   "id": "9d4e415f-1688-450d-bf56-fb040adbebee",
   "metadata": {},
   "outputs": [
    {
     "data": {
      "text/plain": [
       "0.8739215069684303"
      ]
     },
     "execution_count": 7,
     "metadata": {},
     "output_type": "execute_result"
    }
   ],
   "source": [
    "# simulasi ecoli\n",
    "s = fba(ecoli)\n",
    "flux = s.fluxes.to_frame()\n",
    "s.objective_value"
   ]
  },
  {
   "cell_type": "code",
   "execution_count": 8,
   "id": "5a9adcf6-8e16-41cc-9f1a-9345a03d35cc",
   "metadata": {},
   "outputs": [
    {
     "name": "stdout",
     "output_type": "stream",
     "text": [
      "Downloading Map from https://escher.github.io/1-0-0/6/maps/Escherichia%20coli/e_coli_core.Core%20metabolism.json\n"
     ]
    },
    {
     "data": {
      "application/vnd.jupyter.widget-view+json": {
       "model_id": "4a69cd4925bf4eec823826f0fa376d67",
       "version_major": 2,
       "version_minor": 0
      },
      "text/plain": [
       "Builder(reaction_data={'PFK': 7.477381962160287, 'PFL': 0.0, 'PGI': 4.860861146496827, 'PGK': -16.023526143167…"
      ]
     },
     "metadata": {},
     "output_type": "display_data"
    }
   ],
   "source": [
    "# load e coli map\n",
    "# map fluxes\n",
    "builder_ecoli = Builder(\n",
    "    map_name='e_coli_core.Core metabolism',\n",
    "    model = ecoli,\n",
    "    reaction_data = s.fluxes\n",
    ")\n",
    "builder_ecoli"
   ]
  },
  {
   "cell_type": "code",
   "execution_count": 9,
   "id": "abc54a6a-0487-4007-862f-428072673f58",
   "metadata": {},
   "outputs": [
    {
     "name": "stdout",
     "output_type": "stream",
     "text": [
      "Downloading Map from https://escher.github.io/1-0-0/6/maps/Escherichia%20coli/e_coli_core.Core%20metabolism.json\n"
     ]
    },
    {
     "data": {
      "application/vnd.jupyter.widget-view+json": {
       "model_id": "2c359fb626d7483d9a9ce477625bfb7f",
       "version_major": 2,
       "version_minor": 0
      },
      "text/plain": [
       "Builder(reaction_data={'rxn12008_c': 0.00233685938934557, 'rxn00541_c': 0.0, 'rxn00225_c': 0.0, 'rxn01674_c': …"
      ]
     },
     "metadata": {},
     "output_type": "display_data"
    }
   ],
   "source": [
    "# Try to load the model to e coli\n",
    "# map fluxes\n",
    "builder_model = Builder(\n",
    "    map_name='e_coli_core.Core metabolism',\n",
    "    model = model,\n",
    "    reaction_data = s_model.fluxes\n",
    ")\n",
    "builder_model"
   ]
  },
  {
   "cell_type": "markdown",
   "id": "54f4fbbc-9be6-4929-a118-0f46a5233746",
   "metadata": {},
   "source": [
    "It seems that the reaction name does not match, so we only see some of the reaction"
   ]
  },
  {
   "cell_type": "code",
   "execution_count": 10,
   "id": "a35183bf-2e8a-4952-9a96-4d737a191906",
   "metadata": {},
   "outputs": [],
   "source": [
    "# check ids\n",
    "e_m = [i.id for i in ecoli.metabolites] # e coli metabolite ids\n",
    "m_m = [i.id for i in model.metabolites] # model metabolit ids\n",
    "e_r = [i.id for i in ecoli.reactions] # e coli metabolite ids\n",
    "m_r = [i.id for i in model.reactions] # model metabolit ids"
   ]
  },
  {
   "cell_type": "code",
   "execution_count": 11,
   "id": "6dd3d05e-21f9-4f0a-b976-d3546fc27e98",
   "metadata": {},
   "outputs": [
    {
     "data": {
      "application/vnd.jupyter.widget-view+json": {
       "model_id": "4a0c1e11ad9742ceabc07479a328209a",
       "version_major": 2,
       "version_minor": 0
      },
      "text/plain": [
       "Builder(reaction_data={'rxn12008_c': 0.00233685938934557, 'rxn00541_c': 0.0, 'rxn00225_c': 0.0, 'rxn01674_c': …"
      ]
     },
     "metadata": {},
     "output_type": "display_data"
    }
   ],
   "source": [
    "# make map from scratch\n",
    "builder_scratch = Builder(\n",
    "    model = model,\n",
    "    reaction_data = s_model.fluxes\n",
    ")\n",
    "builder_scratch"
   ]
  },
  {
   "cell_type": "markdown",
   "id": "be86832b-7d9c-476f-9e52-efb0aea6210e",
   "metadata": {},
   "source": [
    "## To do list\n",
    "* The model ids does not conform with BIGG ids\n",
    "* There are no publicly available map for c. violaceum\n",
    "* We can draw the map manually for our specific metabolism\n",
    "    - Video tutorial here: https://drive.google.com/file/d/1qbdGgKz3kZeJ-eweAEl4QHuOK5dU-DdJ/view?usp=sharing\n",
    "* or we can contact the author for:\n",
    "    - SBML file\n",
    "    - Escher map\n",
    "* I prefer contacting the first author of these papers:\n",
    "    - https://bmcsystbiol.biomedcentral.com/articles/10.1186/s12918-017-0427-z/figures/6\n",
    "    - https://journals.plos.org/plosone/article?id=10.1371/journal.pone.0210008\n",
    "    - https://scholar.google.co.in/citations?user=SeSWhjYAAAAJ&hl=en\n",
    "* Other idea is to check KEGG Map and convert it to escher:\n",
    "    - https://www.genome.jp/pathway/cvi01100\n",
    "    - https://github.com/zakandrewking/escher/issues/202\n",
    "    - https://ctskennerton.github.io/2020/09/27/drawing-kegg-pathway-maps-using-biopython-and-matplotlib/"
   ]
  },
  {
   "cell_type": "code",
   "execution_count": null,
   "id": "628fdf13-11a9-4ca2-915d-774e49384f8c",
   "metadata": {},
   "outputs": [],
   "source": []
  }
 ],
 "metadata": {
  "kernelspec": {
   "display_name": "Python 3 (ipykernel)",
   "language": "python",
   "name": "python3"
  },
  "language_info": {
   "codemirror_mode": {
    "name": "ipython",
    "version": 3
   },
   "file_extension": ".py",
   "mimetype": "text/x-python",
   "name": "python",
   "nbconvert_exporter": "python",
   "pygments_lexer": "ipython3",
   "version": "3.9.6"
  }
 },
 "nbformat": 4,
 "nbformat_minor": 5
}
